{
 "cells": [
  {
   "cell_type": "markdown",
   "id": "4e09cbff",
   "metadata": {},
   "source": [
    "# MAM02 SVMs and Random Forest\n",
    "Students: Dilara Tank, Martijn Siepel"
   ]
  },
  {
   "cell_type": "code",
   "execution_count": 1,
   "id": "c94d59f6",
   "metadata": {},
   "outputs": [],
   "source": [
    "# imports\n",
    "\n",
    "import pandas as pd\n",
    "from sklearn import svm\n",
    "import numpy as np\n",
    "from sklearn import metrics"
   ]
  },
  {
   "cell_type": "code",
   "execution_count": 2,
   "id": "a3153d7c",
   "metadata": {},
   "outputs": [],
   "source": [
    "# data\n",
    "raw_train = pd.read_csv(\"simulatedConcentrations.recoded.training.txt\", sep = \"\\t\")\n",
    "raw_test = pd.read_csv(\"simulatedConcentrations.recoded.test.txt\", sep = \"\\t\")"
   ]
  },
  {
   "cell_type": "markdown",
   "id": "a878c33b",
   "metadata": {},
   "source": [
    "## Data exploration\n",
    "\n",
    "There are 700 rows and 251 columns in the train set."
   ]
  },
  {
   "cell_type": "code",
   "execution_count": 3,
   "id": "5b877a5e",
   "metadata": {},
   "outputs": [
    {
     "data": {
      "text/html": [
       "<div>\n",
       "<style scoped>\n",
       "    .dataframe tbody tr th:only-of-type {\n",
       "        vertical-align: middle;\n",
       "    }\n",
       "\n",
       "    .dataframe tbody tr th {\n",
       "        vertical-align: top;\n",
       "    }\n",
       "\n",
       "    .dataframe thead th {\n",
       "        text-align: right;\n",
       "    }\n",
       "</style>\n",
       "<table border=\"1\" class=\"dataframe\">\n",
       "  <thead>\n",
       "    <tr style=\"text-align: right;\">\n",
       "      <th></th>\n",
       "      <th>cc</th>\n",
       "      <th>p_1</th>\n",
       "      <th>p_2</th>\n",
       "      <th>p_3</th>\n",
       "      <th>p_4</th>\n",
       "      <th>p_5</th>\n",
       "      <th>p_6</th>\n",
       "      <th>p_7</th>\n",
       "      <th>p_8</th>\n",
       "      <th>p_9</th>\n",
       "      <th>...</th>\n",
       "      <th>p_241</th>\n",
       "      <th>p_242</th>\n",
       "      <th>p_243</th>\n",
       "      <th>p_244</th>\n",
       "      <th>p_245</th>\n",
       "      <th>p_246</th>\n",
       "      <th>p_247</th>\n",
       "      <th>p_248</th>\n",
       "      <th>p_249</th>\n",
       "      <th>p_250</th>\n",
       "    </tr>\n",
       "  </thead>\n",
       "  <tbody>\n",
       "    <tr>\n",
       "      <th>0</th>\n",
       "      <td>0</td>\n",
       "      <td>5.990080</td>\n",
       "      <td>2.372956</td>\n",
       "      <td>1.863723</td>\n",
       "      <td>1.912556</td>\n",
       "      <td>2.447490</td>\n",
       "      <td>3.805296</td>\n",
       "      <td>0.079518</td>\n",
       "      <td>2.735940</td>\n",
       "      <td>2.242411</td>\n",
       "      <td>...</td>\n",
       "      <td>4.178314</td>\n",
       "      <td>2.842667</td>\n",
       "      <td>1.558608</td>\n",
       "      <td>4.244815</td>\n",
       "      <td>3.994065</td>\n",
       "      <td>3.617629</td>\n",
       "      <td>3.232601</td>\n",
       "      <td>1.196992</td>\n",
       "      <td>3.599879</td>\n",
       "      <td>1.273826</td>\n",
       "    </tr>\n",
       "    <tr>\n",
       "      <th>1</th>\n",
       "      <td>0</td>\n",
       "      <td>3.876533</td>\n",
       "      <td>3.761698</td>\n",
       "      <td>2.072886</td>\n",
       "      <td>2.690199</td>\n",
       "      <td>0.682463</td>\n",
       "      <td>2.717090</td>\n",
       "      <td>0.413700</td>\n",
       "      <td>4.269970</td>\n",
       "      <td>2.273345</td>\n",
       "      <td>...</td>\n",
       "      <td>3.310263</td>\n",
       "      <td>1.444818</td>\n",
       "      <td>4.577748</td>\n",
       "      <td>4.148891</td>\n",
       "      <td>3.870811</td>\n",
       "      <td>4.334630</td>\n",
       "      <td>3.485450</td>\n",
       "      <td>2.558260</td>\n",
       "      <td>2.864337</td>\n",
       "      <td>2.070249</td>\n",
       "    </tr>\n",
       "    <tr>\n",
       "      <th>2</th>\n",
       "      <td>0</td>\n",
       "      <td>3.417281</td>\n",
       "      <td>3.458750</td>\n",
       "      <td>3.394488</td>\n",
       "      <td>4.422391</td>\n",
       "      <td>2.548079</td>\n",
       "      <td>2.944549</td>\n",
       "      <td>3.387399</td>\n",
       "      <td>4.615141</td>\n",
       "      <td>3.167030</td>\n",
       "      <td>...</td>\n",
       "      <td>3.804504</td>\n",
       "      <td>3.866382</td>\n",
       "      <td>2.940198</td>\n",
       "      <td>4.159919</td>\n",
       "      <td>3.694627</td>\n",
       "      <td>2.976894</td>\n",
       "      <td>3.460826</td>\n",
       "      <td>4.145632</td>\n",
       "      <td>1.790922</td>\n",
       "      <td>2.547390</td>\n",
       "    </tr>\n",
       "    <tr>\n",
       "      <th>3</th>\n",
       "      <td>0</td>\n",
       "      <td>4.651434</td>\n",
       "      <td>2.695008</td>\n",
       "      <td>1.493320</td>\n",
       "      <td>4.594457</td>\n",
       "      <td>1.903162</td>\n",
       "      <td>0.913204</td>\n",
       "      <td>3.281215</td>\n",
       "      <td>3.124500</td>\n",
       "      <td>4.862742</td>\n",
       "      <td>...</td>\n",
       "      <td>1.843456</td>\n",
       "      <td>2.350108</td>\n",
       "      <td>4.497963</td>\n",
       "      <td>3.332925</td>\n",
       "      <td>2.157612</td>\n",
       "      <td>3.951805</td>\n",
       "      <td>3.224491</td>\n",
       "      <td>1.376894</td>\n",
       "      <td>2.733858</td>\n",
       "      <td>1.433679</td>\n",
       "    </tr>\n",
       "    <tr>\n",
       "      <th>4</th>\n",
       "      <td>0</td>\n",
       "      <td>2.186504</td>\n",
       "      <td>3.473139</td>\n",
       "      <td>1.830540</td>\n",
       "      <td>3.105082</td>\n",
       "      <td>2.572080</td>\n",
       "      <td>4.591407</td>\n",
       "      <td>1.209103</td>\n",
       "      <td>3.311880</td>\n",
       "      <td>2.824717</td>\n",
       "      <td>...</td>\n",
       "      <td>2.022999</td>\n",
       "      <td>2.570952</td>\n",
       "      <td>4.405190</td>\n",
       "      <td>4.225326</td>\n",
       "      <td>2.686949</td>\n",
       "      <td>2.259473</td>\n",
       "      <td>3.928619</td>\n",
       "      <td>4.852162</td>\n",
       "      <td>4.456258</td>\n",
       "      <td>3.135190</td>\n",
       "    </tr>\n",
       "    <tr>\n",
       "      <th>...</th>\n",
       "      <td>...</td>\n",
       "      <td>...</td>\n",
       "      <td>...</td>\n",
       "      <td>...</td>\n",
       "      <td>...</td>\n",
       "      <td>...</td>\n",
       "      <td>...</td>\n",
       "      <td>...</td>\n",
       "      <td>...</td>\n",
       "      <td>...</td>\n",
       "      <td>...</td>\n",
       "      <td>...</td>\n",
       "      <td>...</td>\n",
       "      <td>...</td>\n",
       "      <td>...</td>\n",
       "      <td>...</td>\n",
       "      <td>...</td>\n",
       "      <td>...</td>\n",
       "      <td>...</td>\n",
       "      <td>...</td>\n",
       "      <td>...</td>\n",
       "    </tr>\n",
       "    <tr>\n",
       "      <th>695</th>\n",
       "      <td>1</td>\n",
       "      <td>2.694740</td>\n",
       "      <td>5.172024</td>\n",
       "      <td>2.365657</td>\n",
       "      <td>3.675559</td>\n",
       "      <td>2.985784</td>\n",
       "      <td>4.584865</td>\n",
       "      <td>2.361670</td>\n",
       "      <td>1.994775</td>\n",
       "      <td>2.136689</td>\n",
       "      <td>...</td>\n",
       "      <td>3.812098</td>\n",
       "      <td>3.046719</td>\n",
       "      <td>2.939828</td>\n",
       "      <td>2.328593</td>\n",
       "      <td>3.759822</td>\n",
       "      <td>1.683018</td>\n",
       "      <td>2.975785</td>\n",
       "      <td>4.235410</td>\n",
       "      <td>0.797459</td>\n",
       "      <td>3.380627</td>\n",
       "    </tr>\n",
       "    <tr>\n",
       "      <th>696</th>\n",
       "      <td>1</td>\n",
       "      <td>2.151744</td>\n",
       "      <td>4.682264</td>\n",
       "      <td>2.566471</td>\n",
       "      <td>4.302707</td>\n",
       "      <td>2.854239</td>\n",
       "      <td>2.787095</td>\n",
       "      <td>1.726916</td>\n",
       "      <td>1.829500</td>\n",
       "      <td>3.047581</td>\n",
       "      <td>...</td>\n",
       "      <td>2.404283</td>\n",
       "      <td>4.183376</td>\n",
       "      <td>3.166567</td>\n",
       "      <td>2.621022</td>\n",
       "      <td>3.856908</td>\n",
       "      <td>1.958613</td>\n",
       "      <td>2.610078</td>\n",
       "      <td>3.453517</td>\n",
       "      <td>2.782237</td>\n",
       "      <td>3.704500</td>\n",
       "    </tr>\n",
       "    <tr>\n",
       "      <th>697</th>\n",
       "      <td>1</td>\n",
       "      <td>3.581671</td>\n",
       "      <td>4.068131</td>\n",
       "      <td>3.499364</td>\n",
       "      <td>2.779425</td>\n",
       "      <td>4.065883</td>\n",
       "      <td>2.288258</td>\n",
       "      <td>3.796080</td>\n",
       "      <td>5.012222</td>\n",
       "      <td>4.168613</td>\n",
       "      <td>...</td>\n",
       "      <td>4.863811</td>\n",
       "      <td>2.409710</td>\n",
       "      <td>3.463669</td>\n",
       "      <td>3.144249</td>\n",
       "      <td>3.041745</td>\n",
       "      <td>4.361741</td>\n",
       "      <td>3.025681</td>\n",
       "      <td>1.116597</td>\n",
       "      <td>4.042750</td>\n",
       "      <td>2.844593</td>\n",
       "    </tr>\n",
       "    <tr>\n",
       "      <th>698</th>\n",
       "      <td>1</td>\n",
       "      <td>4.663016</td>\n",
       "      <td>4.004986</td>\n",
       "      <td>3.046081</td>\n",
       "      <td>2.626760</td>\n",
       "      <td>3.375057</td>\n",
       "      <td>3.829221</td>\n",
       "      <td>3.370321</td>\n",
       "      <td>4.138768</td>\n",
       "      <td>4.971202</td>\n",
       "      <td>...</td>\n",
       "      <td>3.592864</td>\n",
       "      <td>3.151530</td>\n",
       "      <td>1.812748</td>\n",
       "      <td>1.735959</td>\n",
       "      <td>3.579429</td>\n",
       "      <td>1.813875</td>\n",
       "      <td>4.127705</td>\n",
       "      <td>3.095179</td>\n",
       "      <td>1.009377</td>\n",
       "      <td>5.152303</td>\n",
       "    </tr>\n",
       "    <tr>\n",
       "      <th>699</th>\n",
       "      <td>1</td>\n",
       "      <td>4.014250</td>\n",
       "      <td>5.529675</td>\n",
       "      <td>2.985523</td>\n",
       "      <td>1.813008</td>\n",
       "      <td>0.973436</td>\n",
       "      <td>3.501147</td>\n",
       "      <td>3.073458</td>\n",
       "      <td>3.901621</td>\n",
       "      <td>3.015373</td>\n",
       "      <td>...</td>\n",
       "      <td>3.859663</td>\n",
       "      <td>4.449756</td>\n",
       "      <td>2.960318</td>\n",
       "      <td>3.369533</td>\n",
       "      <td>3.455361</td>\n",
       "      <td>2.387916</td>\n",
       "      <td>1.551928</td>\n",
       "      <td>1.918011</td>\n",
       "      <td>1.977655</td>\n",
       "      <td>3.315620</td>\n",
       "    </tr>\n",
       "  </tbody>\n",
       "</table>\n",
       "<p>700 rows × 251 columns</p>\n",
       "</div>"
      ],
      "text/plain": [
       "     cc       p_1       p_2       p_3       p_4       p_5       p_6       p_7  \\\n",
       "0     0  5.990080  2.372956  1.863723  1.912556  2.447490  3.805296  0.079518   \n",
       "1     0  3.876533  3.761698  2.072886  2.690199  0.682463  2.717090  0.413700   \n",
       "2     0  3.417281  3.458750  3.394488  4.422391  2.548079  2.944549  3.387399   \n",
       "3     0  4.651434  2.695008  1.493320  4.594457  1.903162  0.913204  3.281215   \n",
       "4     0  2.186504  3.473139  1.830540  3.105082  2.572080  4.591407  1.209103   \n",
       "..   ..       ...       ...       ...       ...       ...       ...       ...   \n",
       "695   1  2.694740  5.172024  2.365657  3.675559  2.985784  4.584865  2.361670   \n",
       "696   1  2.151744  4.682264  2.566471  4.302707  2.854239  2.787095  1.726916   \n",
       "697   1  3.581671  4.068131  3.499364  2.779425  4.065883  2.288258  3.796080   \n",
       "698   1  4.663016  4.004986  3.046081  2.626760  3.375057  3.829221  3.370321   \n",
       "699   1  4.014250  5.529675  2.985523  1.813008  0.973436  3.501147  3.073458   \n",
       "\n",
       "          p_8       p_9  ...     p_241     p_242     p_243     p_244  \\\n",
       "0    2.735940  2.242411  ...  4.178314  2.842667  1.558608  4.244815   \n",
       "1    4.269970  2.273345  ...  3.310263  1.444818  4.577748  4.148891   \n",
       "2    4.615141  3.167030  ...  3.804504  3.866382  2.940198  4.159919   \n",
       "3    3.124500  4.862742  ...  1.843456  2.350108  4.497963  3.332925   \n",
       "4    3.311880  2.824717  ...  2.022999  2.570952  4.405190  4.225326   \n",
       "..        ...       ...  ...       ...       ...       ...       ...   \n",
       "695  1.994775  2.136689  ...  3.812098  3.046719  2.939828  2.328593   \n",
       "696  1.829500  3.047581  ...  2.404283  4.183376  3.166567  2.621022   \n",
       "697  5.012222  4.168613  ...  4.863811  2.409710  3.463669  3.144249   \n",
       "698  4.138768  4.971202  ...  3.592864  3.151530  1.812748  1.735959   \n",
       "699  3.901621  3.015373  ...  3.859663  4.449756  2.960318  3.369533   \n",
       "\n",
       "        p_245     p_246     p_247     p_248     p_249     p_250  \n",
       "0    3.994065  3.617629  3.232601  1.196992  3.599879  1.273826  \n",
       "1    3.870811  4.334630  3.485450  2.558260  2.864337  2.070249  \n",
       "2    3.694627  2.976894  3.460826  4.145632  1.790922  2.547390  \n",
       "3    2.157612  3.951805  3.224491  1.376894  2.733858  1.433679  \n",
       "4    2.686949  2.259473  3.928619  4.852162  4.456258  3.135190  \n",
       "..        ...       ...       ...       ...       ...       ...  \n",
       "695  3.759822  1.683018  2.975785  4.235410  0.797459  3.380627  \n",
       "696  3.856908  1.958613  2.610078  3.453517  2.782237  3.704500  \n",
       "697  3.041745  4.361741  3.025681  1.116597  4.042750  2.844593  \n",
       "698  3.579429  1.813875  4.127705  3.095179  1.009377  5.152303  \n",
       "699  3.455361  2.387916  1.551928  1.918011  1.977655  3.315620  \n",
       "\n",
       "[700 rows x 251 columns]"
      ]
     },
     "execution_count": 3,
     "metadata": {},
     "output_type": "execute_result"
    }
   ],
   "source": [
    "raw_train"
   ]
  },
  {
   "cell_type": "markdown",
   "id": "24c93e8f",
   "metadata": {},
   "source": [
    "There are 300 rows and 251 columns in the test set."
   ]
  },
  {
   "cell_type": "code",
   "execution_count": 4,
   "id": "b3fcfb81",
   "metadata": {},
   "outputs": [
    {
     "data": {
      "text/html": [
       "<div>\n",
       "<style scoped>\n",
       "    .dataframe tbody tr th:only-of-type {\n",
       "        vertical-align: middle;\n",
       "    }\n",
       "\n",
       "    .dataframe tbody tr th {\n",
       "        vertical-align: top;\n",
       "    }\n",
       "\n",
       "    .dataframe thead th {\n",
       "        text-align: right;\n",
       "    }\n",
       "</style>\n",
       "<table border=\"1\" class=\"dataframe\">\n",
       "  <thead>\n",
       "    <tr style=\"text-align: right;\">\n",
       "      <th></th>\n",
       "      <th>cc</th>\n",
       "      <th>p_1</th>\n",
       "      <th>p_2</th>\n",
       "      <th>p_3</th>\n",
       "      <th>p_4</th>\n",
       "      <th>p_5</th>\n",
       "      <th>p_6</th>\n",
       "      <th>p_7</th>\n",
       "      <th>p_8</th>\n",
       "      <th>p_9</th>\n",
       "      <th>...</th>\n",
       "      <th>p_241</th>\n",
       "      <th>p_242</th>\n",
       "      <th>p_243</th>\n",
       "      <th>p_244</th>\n",
       "      <th>p_245</th>\n",
       "      <th>p_246</th>\n",
       "      <th>p_247</th>\n",
       "      <th>p_248</th>\n",
       "      <th>p_249</th>\n",
       "      <th>p_250</th>\n",
       "    </tr>\n",
       "  </thead>\n",
       "  <tbody>\n",
       "    <tr>\n",
       "      <th>0</th>\n",
       "      <td>0</td>\n",
       "      <td>1.612468</td>\n",
       "      <td>3.474305</td>\n",
       "      <td>3.081643</td>\n",
       "      <td>2.647540</td>\n",
       "      <td>1.477145</td>\n",
       "      <td>2.226074</td>\n",
       "      <td>0.907987</td>\n",
       "      <td>1.930012</td>\n",
       "      <td>2.031522</td>\n",
       "      <td>...</td>\n",
       "      <td>3.012094</td>\n",
       "      <td>5.157420</td>\n",
       "      <td>3.271333</td>\n",
       "      <td>3.451251</td>\n",
       "      <td>3.058974</td>\n",
       "      <td>1.503359</td>\n",
       "      <td>1.734572</td>\n",
       "      <td>2.834744</td>\n",
       "      <td>3.686796</td>\n",
       "      <td>2.067522</td>\n",
       "    </tr>\n",
       "    <tr>\n",
       "      <th>1</th>\n",
       "      <td>0</td>\n",
       "      <td>1.300964</td>\n",
       "      <td>3.075240</td>\n",
       "      <td>2.436726</td>\n",
       "      <td>4.035113</td>\n",
       "      <td>1.827510</td>\n",
       "      <td>3.886138</td>\n",
       "      <td>1.795661</td>\n",
       "      <td>1.664807</td>\n",
       "      <td>2.822648</td>\n",
       "      <td>...</td>\n",
       "      <td>4.514789</td>\n",
       "      <td>3.051476</td>\n",
       "      <td>3.925865</td>\n",
       "      <td>3.011847</td>\n",
       "      <td>3.392423</td>\n",
       "      <td>3.479198</td>\n",
       "      <td>2.213151</td>\n",
       "      <td>4.181237</td>\n",
       "      <td>3.711856</td>\n",
       "      <td>2.431092</td>\n",
       "    </tr>\n",
       "    <tr>\n",
       "      <th>2</th>\n",
       "      <td>0</td>\n",
       "      <td>0.730748</td>\n",
       "      <td>3.798289</td>\n",
       "      <td>2.741223</td>\n",
       "      <td>3.831064</td>\n",
       "      <td>1.779807</td>\n",
       "      <td>1.371133</td>\n",
       "      <td>1.286970</td>\n",
       "      <td>4.026218</td>\n",
       "      <td>2.966135</td>\n",
       "      <td>...</td>\n",
       "      <td>3.890185</td>\n",
       "      <td>3.589208</td>\n",
       "      <td>3.702127</td>\n",
       "      <td>4.566962</td>\n",
       "      <td>4.200340</td>\n",
       "      <td>4.353270</td>\n",
       "      <td>3.298243</td>\n",
       "      <td>4.260439</td>\n",
       "      <td>2.615887</td>\n",
       "      <td>3.268334</td>\n",
       "    </tr>\n",
       "    <tr>\n",
       "      <th>3</th>\n",
       "      <td>0</td>\n",
       "      <td>1.760209</td>\n",
       "      <td>2.877058</td>\n",
       "      <td>4.115963</td>\n",
       "      <td>3.297249</td>\n",
       "      <td>2.233364</td>\n",
       "      <td>2.165131</td>\n",
       "      <td>2.784745</td>\n",
       "      <td>3.226482</td>\n",
       "      <td>2.693925</td>\n",
       "      <td>...</td>\n",
       "      <td>3.943689</td>\n",
       "      <td>2.775926</td>\n",
       "      <td>4.189492</td>\n",
       "      <td>4.020823</td>\n",
       "      <td>2.355680</td>\n",
       "      <td>2.643243</td>\n",
       "      <td>3.660590</td>\n",
       "      <td>4.114268</td>\n",
       "      <td>2.521084</td>\n",
       "      <td>1.291745</td>\n",
       "    </tr>\n",
       "    <tr>\n",
       "      <th>4</th>\n",
       "      <td>0</td>\n",
       "      <td>2.335384</td>\n",
       "      <td>1.078580</td>\n",
       "      <td>2.289023</td>\n",
       "      <td>2.876278</td>\n",
       "      <td>2.435920</td>\n",
       "      <td>4.839064</td>\n",
       "      <td>4.033762</td>\n",
       "      <td>2.575286</td>\n",
       "      <td>2.611814</td>\n",
       "      <td>...</td>\n",
       "      <td>2.427503</td>\n",
       "      <td>3.331249</td>\n",
       "      <td>4.052921</td>\n",
       "      <td>1.686589</td>\n",
       "      <td>1.937887</td>\n",
       "      <td>2.529955</td>\n",
       "      <td>1.483750</td>\n",
       "      <td>2.489929</td>\n",
       "      <td>2.104198</td>\n",
       "      <td>3.536856</td>\n",
       "    </tr>\n",
       "    <tr>\n",
       "      <th>...</th>\n",
       "      <td>...</td>\n",
       "      <td>...</td>\n",
       "      <td>...</td>\n",
       "      <td>...</td>\n",
       "      <td>...</td>\n",
       "      <td>...</td>\n",
       "      <td>...</td>\n",
       "      <td>...</td>\n",
       "      <td>...</td>\n",
       "      <td>...</td>\n",
       "      <td>...</td>\n",
       "      <td>...</td>\n",
       "      <td>...</td>\n",
       "      <td>...</td>\n",
       "      <td>...</td>\n",
       "      <td>...</td>\n",
       "      <td>...</td>\n",
       "      <td>...</td>\n",
       "      <td>...</td>\n",
       "      <td>...</td>\n",
       "      <td>...</td>\n",
       "    </tr>\n",
       "    <tr>\n",
       "      <th>295</th>\n",
       "      <td>1</td>\n",
       "      <td>3.018572</td>\n",
       "      <td>1.933102</td>\n",
       "      <td>3.382359</td>\n",
       "      <td>2.397873</td>\n",
       "      <td>3.112016</td>\n",
       "      <td>2.308696</td>\n",
       "      <td>2.674707</td>\n",
       "      <td>0.888944</td>\n",
       "      <td>2.409014</td>\n",
       "      <td>...</td>\n",
       "      <td>2.732044</td>\n",
       "      <td>3.351871</td>\n",
       "      <td>2.515280</td>\n",
       "      <td>3.299979</td>\n",
       "      <td>3.849993</td>\n",
       "      <td>4.483393</td>\n",
       "      <td>3.237941</td>\n",
       "      <td>2.427215</td>\n",
       "      <td>2.807415</td>\n",
       "      <td>2.906133</td>\n",
       "    </tr>\n",
       "    <tr>\n",
       "      <th>296</th>\n",
       "      <td>1</td>\n",
       "      <td>3.308753</td>\n",
       "      <td>5.260347</td>\n",
       "      <td>2.917089</td>\n",
       "      <td>4.919993</td>\n",
       "      <td>1.979389</td>\n",
       "      <td>3.099847</td>\n",
       "      <td>2.010594</td>\n",
       "      <td>3.591778</td>\n",
       "      <td>0.327217</td>\n",
       "      <td>...</td>\n",
       "      <td>1.809449</td>\n",
       "      <td>2.298975</td>\n",
       "      <td>3.361137</td>\n",
       "      <td>2.190559</td>\n",
       "      <td>3.992505</td>\n",
       "      <td>3.045573</td>\n",
       "      <td>4.251126</td>\n",
       "      <td>3.943378</td>\n",
       "      <td>1.998725</td>\n",
       "      <td>2.070585</td>\n",
       "    </tr>\n",
       "    <tr>\n",
       "      <th>297</th>\n",
       "      <td>1</td>\n",
       "      <td>2.930498</td>\n",
       "      <td>2.553745</td>\n",
       "      <td>3.279947</td>\n",
       "      <td>1.146571</td>\n",
       "      <td>2.969376</td>\n",
       "      <td>2.493065</td>\n",
       "      <td>4.488515</td>\n",
       "      <td>3.366241</td>\n",
       "      <td>1.200322</td>\n",
       "      <td>...</td>\n",
       "      <td>3.229196</td>\n",
       "      <td>4.270557</td>\n",
       "      <td>0.570573</td>\n",
       "      <td>1.942790</td>\n",
       "      <td>2.940316</td>\n",
       "      <td>4.197061</td>\n",
       "      <td>3.716778</td>\n",
       "      <td>2.315817</td>\n",
       "      <td>3.263704</td>\n",
       "      <td>0.918061</td>\n",
       "    </tr>\n",
       "    <tr>\n",
       "      <th>298</th>\n",
       "      <td>1</td>\n",
       "      <td>1.269487</td>\n",
       "      <td>2.615980</td>\n",
       "      <td>1.549721</td>\n",
       "      <td>5.626274</td>\n",
       "      <td>2.785671</td>\n",
       "      <td>3.360088</td>\n",
       "      <td>2.980640</td>\n",
       "      <td>3.692053</td>\n",
       "      <td>3.110285</td>\n",
       "      <td>...</td>\n",
       "      <td>3.960706</td>\n",
       "      <td>4.160297</td>\n",
       "      <td>4.622836</td>\n",
       "      <td>2.379770</td>\n",
       "      <td>2.621007</td>\n",
       "      <td>2.680317</td>\n",
       "      <td>2.795090</td>\n",
       "      <td>3.815277</td>\n",
       "      <td>1.583589</td>\n",
       "      <td>4.019925</td>\n",
       "    </tr>\n",
       "    <tr>\n",
       "      <th>299</th>\n",
       "      <td>1</td>\n",
       "      <td>2.168271</td>\n",
       "      <td>3.347003</td>\n",
       "      <td>3.033209</td>\n",
       "      <td>1.306114</td>\n",
       "      <td>2.410624</td>\n",
       "      <td>1.930745</td>\n",
       "      <td>3.253705</td>\n",
       "      <td>2.548122</td>\n",
       "      <td>2.426615</td>\n",
       "      <td>...</td>\n",
       "      <td>1.894271</td>\n",
       "      <td>4.347398</td>\n",
       "      <td>2.870187</td>\n",
       "      <td>2.611292</td>\n",
       "      <td>2.882806</td>\n",
       "      <td>4.311183</td>\n",
       "      <td>2.799349</td>\n",
       "      <td>1.442491</td>\n",
       "      <td>2.174876</td>\n",
       "      <td>3.863968</td>\n",
       "    </tr>\n",
       "  </tbody>\n",
       "</table>\n",
       "<p>300 rows × 251 columns</p>\n",
       "</div>"
      ],
      "text/plain": [
       "     cc       p_1       p_2       p_3       p_4       p_5       p_6       p_7  \\\n",
       "0     0  1.612468  3.474305  3.081643  2.647540  1.477145  2.226074  0.907987   \n",
       "1     0  1.300964  3.075240  2.436726  4.035113  1.827510  3.886138  1.795661   \n",
       "2     0  0.730748  3.798289  2.741223  3.831064  1.779807  1.371133  1.286970   \n",
       "3     0  1.760209  2.877058  4.115963  3.297249  2.233364  2.165131  2.784745   \n",
       "4     0  2.335384  1.078580  2.289023  2.876278  2.435920  4.839064  4.033762   \n",
       "..   ..       ...       ...       ...       ...       ...       ...       ...   \n",
       "295   1  3.018572  1.933102  3.382359  2.397873  3.112016  2.308696  2.674707   \n",
       "296   1  3.308753  5.260347  2.917089  4.919993  1.979389  3.099847  2.010594   \n",
       "297   1  2.930498  2.553745  3.279947  1.146571  2.969376  2.493065  4.488515   \n",
       "298   1  1.269487  2.615980  1.549721  5.626274  2.785671  3.360088  2.980640   \n",
       "299   1  2.168271  3.347003  3.033209  1.306114  2.410624  1.930745  3.253705   \n",
       "\n",
       "          p_8       p_9  ...     p_241     p_242     p_243     p_244  \\\n",
       "0    1.930012  2.031522  ...  3.012094  5.157420  3.271333  3.451251   \n",
       "1    1.664807  2.822648  ...  4.514789  3.051476  3.925865  3.011847   \n",
       "2    4.026218  2.966135  ...  3.890185  3.589208  3.702127  4.566962   \n",
       "3    3.226482  2.693925  ...  3.943689  2.775926  4.189492  4.020823   \n",
       "4    2.575286  2.611814  ...  2.427503  3.331249  4.052921  1.686589   \n",
       "..        ...       ...  ...       ...       ...       ...       ...   \n",
       "295  0.888944  2.409014  ...  2.732044  3.351871  2.515280  3.299979   \n",
       "296  3.591778  0.327217  ...  1.809449  2.298975  3.361137  2.190559   \n",
       "297  3.366241  1.200322  ...  3.229196  4.270557  0.570573  1.942790   \n",
       "298  3.692053  3.110285  ...  3.960706  4.160297  4.622836  2.379770   \n",
       "299  2.548122  2.426615  ...  1.894271  4.347398  2.870187  2.611292   \n",
       "\n",
       "        p_245     p_246     p_247     p_248     p_249     p_250  \n",
       "0    3.058974  1.503359  1.734572  2.834744  3.686796  2.067522  \n",
       "1    3.392423  3.479198  2.213151  4.181237  3.711856  2.431092  \n",
       "2    4.200340  4.353270  3.298243  4.260439  2.615887  3.268334  \n",
       "3    2.355680  2.643243  3.660590  4.114268  2.521084  1.291745  \n",
       "4    1.937887  2.529955  1.483750  2.489929  2.104198  3.536856  \n",
       "..        ...       ...       ...       ...       ...       ...  \n",
       "295  3.849993  4.483393  3.237941  2.427215  2.807415  2.906133  \n",
       "296  3.992505  3.045573  4.251126  3.943378  1.998725  2.070585  \n",
       "297  2.940316  4.197061  3.716778  2.315817  3.263704  0.918061  \n",
       "298  2.621007  2.680317  2.795090  3.815277  1.583589  4.019925  \n",
       "299  2.882806  4.311183  2.799349  1.442491  2.174876  3.863968  \n",
       "\n",
       "[300 rows x 251 columns]"
      ]
     },
     "execution_count": 4,
     "metadata": {},
     "output_type": "execute_result"
    }
   ],
   "source": [
    "raw_test"
   ]
  },
  {
   "cell_type": "markdown",
   "id": "6679c0de",
   "metadata": {},
   "source": [
    "The classes are equally distributed among the train and test set."
   ]
  },
  {
   "cell_type": "code",
   "execution_count": 5,
   "id": "36cff78b",
   "metadata": {},
   "outputs": [
    {
     "name": "stdout",
     "output_type": "stream",
     "text": [
      "cc = 0, train: 350\n",
      "cc = 1, train: 350\n",
      "cc = 0, test : 150\n",
      "cc = 1, test : 150\n"
     ]
    }
   ],
   "source": [
    "# sum all rows where cc = 0 in the training set\n",
    "print('cc = 0, train:', (raw_train['cc'] == 0).sum())\n",
    "# sum all rows where cc = 1 in the training set\n",
    "print('cc = 1, train:', (raw_train['cc'] == 1).sum())\n",
    "\n",
    "# sum all rows where cc = 0 in the test set\n",
    "print('cc = 0, test :', (raw_test['cc'] == 0).sum())\n",
    "# sum all rows where cc = 1 in the test set\n",
    "print('cc = 1, test :', (raw_test['cc'] == 1).sum())"
   ]
  },
  {
   "cell_type": "markdown",
   "id": "15df3e83",
   "metadata": {},
   "source": [
    "## SVM"
   ]
  },
  {
   "cell_type": "markdown",
   "id": "2bb93d5f",
   "metadata": {},
   "source": [
    "We fit sklearn's SVM to the data and allow probabilities. We show the amount of support vectors the model created."
   ]
  },
  {
   "cell_type": "code",
   "execution_count": 6,
   "id": "9ff53015",
   "metadata": {},
   "outputs": [
    {
     "data": {
      "text/plain": [
       "213"
      ]
     },
     "execution_count": 6,
     "metadata": {},
     "output_type": "execute_result"
    }
   ],
   "source": [
    "clf = svm.SVC(kernel = 'linear', probability=True)\n",
    "clf.fit(raw_train[raw_train.columns[1:]], raw_train[raw_train.columns[0]])\n",
    "len(clf.support_vectors_) # 216 in R"
   ]
  },
  {
   "cell_type": "markdown",
   "id": "c9a2e6b6",
   "metadata": {},
   "source": [
    "We make predictions with probabilities and compute the AUC of the model. The ROC curve plots the sensitivity (true positive rate) against the specificity (true negative rate) of the data. The area under this curve (Area Under Curve -> AUC) says something about the ability of the classifier to distinguish between the positive (cc=1) and negative (cc=0) class. An AUC of 1 would indicate that the model correctly distinguishes between all positive and negative classes. An AUC between 0.5 and 1 means there is a high chance that the model will be able to distinguish between the classes. An AUC of 0.89 is therefore quite good."
   ]
  },
  {
   "cell_type": "code",
   "execution_count": 7,
   "id": "47c56f36",
   "metadata": {},
   "outputs": [
    {
     "data": {
      "text/plain": [
       "0.8962222222222223"
      ]
     },
     "execution_count": 7,
     "metadata": {},
     "output_type": "execute_result"
    }
   ],
   "source": [
    "preds = pd.DataFrame(clf.predict_proba(raw_test[raw_test.columns[1:]]))[1] # with probabilities\n",
    "# preds = clf.predict(raw_test[raw_test.columns[1:]]) # without probability\n",
    "\n",
    "y = raw_test[raw_test.columns[0]]\n",
    "fpr, tpr, thresholds = metrics.roc_curve(y, preds, pos_label=1)\n",
    "metrics.auc(fpr, tpr) # 0.893 in R"
   ]
  },
  {
   "cell_type": "markdown",
   "id": "5b8707c1",
   "metadata": {},
   "source": [
    "### Vary cost"
   ]
  },
  {
   "cell_type": "code",
   "execution_count": 8,
   "id": "dc4feb8c",
   "metadata": {},
   "outputs": [
    {
     "name": "stdout",
     "output_type": "stream",
     "text": [
      "Cost: 0.1         AUC: 0.892400\n",
      "Cost: 1.0         AUC: 0.896311\n",
      "Cost: 10.0        AUC: 0.896222\n"
     ]
    }
   ],
   "source": [
    "for cost in [0.1, 1, 10]:\n",
    "    # fit the svm model\n",
    "    clf = svm.SVC(kernel = 'linear', probability = True, C=cost)\n",
    "    clf.fit(raw_train[raw_train.columns[1:]], raw_train[raw_train.columns[0]])\n",
    "    # make probability predictions\n",
    "    preds = pd.DataFrame(clf.predict_proba(raw_test[raw_test.columns[1:]]))[1]\n",
    "    # get the AUC\n",
    "    y = raw_test[raw_test.columns[0]]\n",
    "    fpr, tpr, thresholds = metrics.roc_curve(y, preds, pos_label=1)\n",
    "    auc = metrics.auc(fpr, tpr)\n",
    "    print(\"Cost: %-10.1f  AUC: %4f\" % (cost, auc))"
   ]
  },
  {
   "cell_type": "markdown",
   "id": "a75c4052",
   "metadata": {},
   "source": [
    "### Vary kernel"
   ]
  },
  {
   "cell_type": "code",
   "execution_count": 9,
   "id": "c3c4f976",
   "metadata": {},
   "outputs": [
    {
     "name": "stdout",
     "output_type": "stream",
     "text": [
      "Kernel: linear      AUC: 0.896267\n",
      "Kernel: poly        AUC: 0.904578\n",
      "Kernel: rbf         AUC: 0.918933\n",
      "Kernel: sigmoid     AUC: 0.500000\n"
     ]
    }
   ],
   "source": [
    "for kernel in ['linear', 'poly', 'rbf', 'sigmoid']:\n",
    "    # fit the svm model\n",
    "    clf = svm.SVC(kernel = kernel, probability = True, gamma='auto')\n",
    "    clf.fit(raw_train[raw_train.columns[1:]], raw_train[raw_train.columns[0]])\n",
    "    # make probability predictions\n",
    "    preds = pd.DataFrame(clf.predict_proba(raw_test[raw_test.columns[1:]]))[1]\n",
    "    # get the AUC\n",
    "    y = raw_test[raw_test.columns[0]]\n",
    "    fpr, tpr, thresholds = metrics.roc_curve(y, preds, pos_label=1)\n",
    "    auc = metrics.auc(fpr, tpr)\n",
    "    print(\"Kernel: %-10s  AUC: %4f\" % (kernel, auc))"
   ]
  },
  {
   "cell_type": "markdown",
   "id": "7e8d7ca1",
   "metadata": {},
   "source": [
    "We see that the sigmoid kernel function gives back a very low AUC, while in R is gives back a high AUC. We try to investigate why python gives different answers. We check if all cc values are 0 or 1, so that it really is treated as a binary classification problem."
   ]
  },
  {
   "cell_type": "code",
   "execution_count": 10,
   "id": "c266dd4e",
   "metadata": {},
   "outputs": [
    {
     "name": "stdout",
     "output_type": "stream",
     "text": [
      "[0 1]\n",
      "<class 'numpy.int64'>\n"
     ]
    }
   ],
   "source": [
    "print(np.unique(raw_train['cc']))\n",
    "print(type(np.unique(raw_train['cc'])[0]))"
   ]
  },
  {
   "cell_type": "markdown",
   "id": "c6e38cbc",
   "metadata": {},
   "source": [
    "We try different types of input data."
   ]
  },
  {
   "cell_type": "markdown",
   "id": "d2cc7629",
   "metadata": {},
   "source": [
    "### Float"
   ]
  },
  {
   "cell_type": "code",
   "execution_count": 11,
   "id": "3f74bce1",
   "metadata": {},
   "outputs": [
    {
     "name": "stdout",
     "output_type": "stream",
     "text": [
      "<class 'numpy.float64'>\n"
     ]
    }
   ],
   "source": [
    "# data\n",
    "raw_train = pd.read_csv(\"simulatedConcentrations.recoded.training.txt\", sep = \"\\t\")\n",
    "raw_test = pd.read_csv(\"simulatedConcentrations.recoded.test.txt\", sep = \"\\t\")\n",
    "\n",
    "raw_train = raw_train.astype(float)\n",
    "raw_test = raw_test.astype(float)\n",
    "print(type(np.unique(raw_train['cc'])[0]))"
   ]
  },
  {
   "cell_type": "code",
   "execution_count": 12,
   "id": "eb5aee71",
   "metadata": {},
   "outputs": [
    {
     "name": "stdout",
     "output_type": "stream",
     "text": [
      "Kernel: linear      AUC: 0.896267\n",
      "Kernel: poly        AUC: 0.904622\n",
      "Kernel: rbf         AUC: 0.918933\n",
      "Kernel: sigmoid     AUC: 0.500000\n"
     ]
    }
   ],
   "source": [
    "for kernel in ['linear', 'poly', 'rbf', 'sigmoid']:\n",
    "    # fit the svm model\n",
    "    clf = svm.SVC(kernel = kernel, probability = True, gamma='auto')\n",
    "    clf.fit(raw_train[raw_train.columns[1:]], raw_train[raw_train.columns[0]])\n",
    "    # make probability predictions\n",
    "    preds = pd.DataFrame(clf.predict_proba(raw_test[raw_test.columns[1:]]))[1]\n",
    "    # get the AUC\n",
    "    y = raw_test[raw_test.columns[0]]\n",
    "    fpr, tpr, thresholds = metrics.roc_curve(y, preds, pos_label=float(1))\n",
    "    auc = metrics.auc(fpr, tpr)\n",
    "    print(\"Kernel: %-10s  AUC: %4f\" % (kernel, auc))"
   ]
  },
  {
   "cell_type": "markdown",
   "id": "ecd2e6cf",
   "metadata": {},
   "source": [
    "### String"
   ]
  },
  {
   "cell_type": "code",
   "execution_count": 13,
   "id": "8c704dfb",
   "metadata": {},
   "outputs": [
    {
     "name": "stdout",
     "output_type": "stream",
     "text": [
      "<class 'str'>\n"
     ]
    }
   ],
   "source": [
    "# data\n",
    "raw_train = pd.read_csv(\"simulatedConcentrations.recoded.training.txt\", sep = \"\\t\")\n",
    "raw_test = pd.read_csv(\"simulatedConcentrations.recoded.test.txt\", sep = \"\\t\")\n",
    "\n",
    "raw_train['cc'] = raw_train['cc'].astype(str)\n",
    "raw_test['cc'] = raw_test['cc'].astype(str)\n",
    "print(type(np.unique(raw_train['cc'])[0]))"
   ]
  },
  {
   "cell_type": "code",
   "execution_count": 14,
   "id": "3f025a7d",
   "metadata": {},
   "outputs": [
    {
     "name": "stdout",
     "output_type": "stream",
     "text": [
      "Kernel: linear      AUC: 0.896267\n",
      "Kernel: poly        AUC: 0.904622\n",
      "Kernel: rbf         AUC: 0.918933\n",
      "Kernel: sigmoid     AUC: 0.428089\n"
     ]
    }
   ],
   "source": [
    "for kernel in ['linear', 'poly', 'rbf', 'sigmoid']:\n",
    "    # fit the svm model\n",
    "    clf = svm.SVC(kernel = kernel, probability = True, gamma='auto')\n",
    "    clf.fit(raw_train[raw_train.columns[1:]], raw_train[raw_train.columns[0]])\n",
    "    # make probability predictions\n",
    "    preds = pd.DataFrame(clf.predict_proba(raw_test[raw_test.columns[1:]]))[1]\n",
    "    # get the AUC\n",
    "    y = raw_test[raw_test.columns[0]]\n",
    "    fpr, tpr, thresholds = metrics.roc_curve(y, preds, pos_label='1')\n",
    "    auc = metrics.auc(fpr, tpr)\n",
    "    print(\"Kernel: %-10s  AUC: %4f\" % (kernel, auc))"
   ]
  },
  {
   "cell_type": "markdown",
   "id": "4ae313f8",
   "metadata": {},
   "source": [
    "### Categories"
   ]
  },
  {
   "cell_type": "code",
   "execution_count": 15,
   "id": "41c01de8",
   "metadata": {},
   "outputs": [
    {
     "name": "stdout",
     "output_type": "stream",
     "text": [
      "<class 'str'>\n"
     ]
    }
   ],
   "source": [
    "# data\n",
    "raw_train = pd.read_csv(\"simulatedConcentrations.recoded.training.txt\", sep = \"\\t\", dtype='category')\n",
    "raw_test = pd.read_csv(\"simulatedConcentrations.recoded.test.txt\", sep = \"\\t\", dtype='category')\n",
    "\n",
    "print(type(np.unique(raw_train['cc'])[0]))"
   ]
  },
  {
   "cell_type": "code",
   "execution_count": 16,
   "id": "7e63c5b3",
   "metadata": {},
   "outputs": [
    {
     "name": "stdout",
     "output_type": "stream",
     "text": [
      "Kernel: linear      AUC: 0.896267\n",
      "Kernel: poly        AUC: 0.904622\n",
      "Kernel: rbf         AUC: 0.918889\n",
      "Kernel: sigmoid     AUC: 0.428089\n"
     ]
    }
   ],
   "source": [
    "for kernel in ['linear', 'poly', 'rbf', 'sigmoid']:\n",
    "    # fit the svm model\n",
    "    clf = svm.SVC(kernel = kernel, probability = True, gamma='auto')\n",
    "    clf.fit(raw_train[raw_train.columns[1:]], raw_train[raw_train.columns[0]])\n",
    "    # make probability predictions\n",
    "    preds = pd.DataFrame(clf.predict_proba(raw_test[raw_test.columns[1:]]))[1]\n",
    "    # get the AUC\n",
    "    y = raw_test[raw_test.columns[0]]\n",
    "    fpr, tpr, thresholds = metrics.roc_curve(y, preds, pos_label='1')\n",
    "    auc = metrics.auc(fpr, tpr)\n",
    "    print(\"Kernel: %-10s  AUC: %4f\" % (kernel, auc))"
   ]
  },
  {
   "cell_type": "markdown",
   "id": "b303695c",
   "metadata": {},
   "source": [
    "### Booleans"
   ]
  },
  {
   "cell_type": "code",
   "execution_count": 17,
   "id": "3649e259",
   "metadata": {},
   "outputs": [
    {
     "name": "stdout",
     "output_type": "stream",
     "text": [
      "<class 'numpy.bool_'>\n"
     ]
    }
   ],
   "source": [
    "# data\n",
    "raw_train = pd.read_csv(\"simulatedConcentrations.recoded.training.txt\", sep = \"\\t\")\n",
    "raw_test = pd.read_csv(\"simulatedConcentrations.recoded.test.txt\", sep = \"\\t\")\n",
    "\n",
    "raw_train['cc'] = raw_train['cc'].astype(bool)\n",
    "raw_test['cc'] = raw_test['cc'].astype(bool)\n",
    "print(type(np.unique(raw_train['cc'])[0]))"
   ]
  },
  {
   "cell_type": "code",
   "execution_count": 18,
   "id": "03a3f3a2",
   "metadata": {},
   "outputs": [
    {
     "name": "stdout",
     "output_type": "stream",
     "text": [
      "Kernel: linear      AUC: 0.896267\n",
      "Kernel: poly        AUC: 0.904578\n",
      "Kernel: rbf         AUC: 0.918933\n",
      "Kernel: sigmoid     AUC: 0.428089\n"
     ]
    }
   ],
   "source": [
    "for kernel in ['linear', 'poly', 'rbf', 'sigmoid']:\n",
    "    # fit the svm model\n",
    "    clf = svm.SVC(kernel = kernel, probability = True, gamma='auto')\n",
    "    clf.fit(raw_train[raw_train.columns[1:]], raw_train[raw_train.columns[0]])\n",
    "    # make probability predictions\n",
    "    preds = pd.DataFrame(clf.predict_proba(raw_test[raw_test.columns[1:]]))[1]\n",
    "    # get the AUC\n",
    "    y = raw_test[raw_test.columns[0]]\n",
    "    fpr, tpr, thresholds = metrics.roc_curve(y, preds, pos_label=True)\n",
    "    auc = metrics.auc(fpr, tpr)\n",
    "    print(\"Kernel: %-10s  AUC: %4f\" % (kernel, auc))"
   ]
  },
  {
   "cell_type": "markdown",
   "id": "a957a69b",
   "metadata": {},
   "source": [
    "The sigmoid kernel function stays does not increase whatever we try. There might be another cause as to why it gives a different value than R. We try one last thing, another implementation of the sigmoid kernel by sklearn."
   ]
  },
  {
   "cell_type": "code",
   "execution_count": 19,
   "id": "9295fa39",
   "metadata": {},
   "outputs": [],
   "source": [
    "# data\n",
    "raw_train = pd.read_csv(\"simulatedConcentrations.recoded.training.txt\", sep = \"\\t\")\n",
    "raw_test = pd.read_csv(\"simulatedConcentrations.recoded.test.txt\", sep = \"\\t\")\n",
    "\n",
    "X_train = raw_train[raw_train.columns[1:]]\n",
    "y_train = raw_train[raw_train.columns[0]]\n",
    "X_test = raw_test[raw_test.columns[1:]]\n",
    "y_test = raw_test[raw_test.columns[0]]"
   ]
  },
  {
   "cell_type": "code",
   "execution_count": 20,
   "id": "93929218",
   "metadata": {},
   "outputs": [
    {
     "name": "stdout",
     "output_type": "stream",
     "text": [
      "Kernel: sigmoid     AUC: 0.624978\n"
     ]
    }
   ],
   "source": [
    "from sklearn.metrics.pairwise import sigmoid_kernel\n",
    "\n",
    "# fit the svm model\n",
    "clf = svm.SVC(kernel = 'precomputed', probability = True, gamma='auto')\n",
    "kernel_train = sigmoid_kernel(X_train, X_train)\n",
    "\n",
    "clf.fit(kernel_train, y_train)\n",
    "\n",
    "# make probability predictions\n",
    "kernel_test = sigmoid_kernel(X_test, X_train)\n",
    "preds = pd.DataFrame(kernel_test)[1]\n",
    "\n",
    "# get the AUC\n",
    "y = raw_test[raw_test.columns[0]]\n",
    "fpr, tpr, thresholds = metrics.roc_curve(y, preds, pos_label=True)\n",
    "auc = metrics.auc(fpr, tpr)\n",
    "print(\"Kernel: %-10s  AUC: %4f\" % (kernel, auc))"
   ]
  },
  {
   "cell_type": "markdown",
   "id": "1bba6a14",
   "metadata": {},
   "source": [
    "It gives a slightly higher value, but not nearly near ~0.90. We give up!!!!"
   ]
  },
  {
   "cell_type": "markdown",
   "id": "c5497bc6",
   "metadata": {},
   "source": [
    "## Random Forest"
   ]
  },
  {
   "cell_type": "code",
   "execution_count": 21,
   "id": "f89dae22",
   "metadata": {},
   "outputs": [],
   "source": [
    "from sklearn.ensemble import RandomForestClassifier\n",
    "from sklearn import metrics"
   ]
  },
  {
   "cell_type": "code",
   "execution_count": 22,
   "id": "07af2880",
   "metadata": {},
   "outputs": [],
   "source": [
    "# data\n",
    "raw_train = pd.read_csv(\"simulatedConcentrations.recoded.training.txt\", sep = \"\\t\")\n",
    "raw_test = pd.read_csv(\"simulatedConcentrations.recoded.test.txt\", sep = \"\\t\")"
   ]
  },
  {
   "cell_type": "code",
   "execution_count": 23,
   "id": "0514937b",
   "metadata": {},
   "outputs": [
    {
     "data": {
      "text/plain": [
       "0.7333333333333334"
      ]
     },
     "execution_count": 23,
     "metadata": {},
     "output_type": "execute_result"
    }
   ],
   "source": [
    "clf = RandomForestClassifier()\n",
    "clf.fit(raw_train[raw_train.columns[1:]], raw_train[raw_train.columns[0]])\n",
    "\n",
    "y_pred=clf.predict(raw_test[raw_test.columns[1:]])\n",
    "\n",
    "y = raw_test[raw_test.columns[0]]\n",
    "fpr, tpr, thresholds = metrics.roc_curve(y, y_pred, pos_label=1)\n",
    "auc = metrics.auc(fpr, tpr)\n",
    "auc"
   ]
  },
  {
   "cell_type": "markdown",
   "id": "c1c91143",
   "metadata": {},
   "source": [
    "## Vary n_trees"
   ]
  },
  {
   "cell_type": "code",
   "execution_count": 24,
   "id": "6df9903f",
   "metadata": {},
   "outputs": [
    {
     "name": "stdout",
     "output_type": "stream",
     "text": [
      "Number of trees: 500         AUC: 0.7133\n",
      "Number of trees: 1000        AUC: 0.6967\n",
      "Number of trees: 2500        AUC: 0.6933\n"
     ]
    }
   ],
   "source": [
    "for n_tree in [500, 1000, 2500]:\n",
    "    # fit the svm model\n",
    "    clf = RandomForestClassifier(n_estimators = n_tree)\n",
    "    clf.fit(raw_train[raw_train.columns[1:]], raw_train[raw_train.columns[0]])\n",
    "    y_pred=clf.predict(raw_test[raw_test.columns[1:]])\n",
    "\n",
    "    y = raw_test[raw_test.columns[0]]\n",
    "    fpr, tpr, thresholds = metrics.roc_curve(y, y_pred, pos_label=1)\n",
    "    auc = metrics.auc(fpr, tpr)\n",
    "    \n",
    "    print(\"Number of trees: %-10.0f  AUC: %4.4f\" % (n_tree, auc))"
   ]
  },
  {
   "cell_type": "markdown",
   "id": "5e8f1378",
   "metadata": {},
   "source": [
    "## Comparison between SVM and RF"
   ]
  },
  {
   "cell_type": "markdown",
   "id": "e1d1706e",
   "metadata": {},
   "source": [
    "The SVM seems to perform quite a bit better than the RF model. The maximum AUC we managed to get for the SVM model was 0.9188, whereas teh maximum AUC we managed to get for the RF model was 0.7000. The SVM performed 0.918/0.7000*100 = 31.1% better. \n",
    "\n"
   ]
  },
  {
   "cell_type": "markdown",
   "id": "c5b7e888",
   "metadata": {},
   "source": [
    "## Neural network\n",
    "\n",
    "Using code snippets from [PyTorch For Deep Learning — Binary Classification](https://medium.com/analytics-vidhya/pytorch-for-deep-learning-binary-classification-logistic-regression-382abd97fb43), we also train a simple neural net to perform binary classification. We use a logistic regression model and add another layer with multiple neurons to make it a neural net.\n",
    "\n",
    "Note that we use a sigmoid activation function, and we get reasonable results. "
   ]
  },
  {
   "cell_type": "code",
   "execution_count": 25,
   "id": "88932517",
   "metadata": {},
   "outputs": [],
   "source": [
    "#importing the libraries\n",
    "import torch\n",
    "import numpy as np\n",
    "import matplotlib.pyplot as plt"
   ]
  },
  {
   "cell_type": "code",
   "execution_count": 26,
   "id": "257a8589",
   "metadata": {},
   "outputs": [],
   "source": [
    "#defining dataset class\n",
    "from torch.utils.data import Dataset, DataLoader\n",
    "\n",
    "class dataset(Dataset):\n",
    "      def __init__(self,x,y):\n",
    "        self.x = torch.tensor(x,dtype=torch.float32)\n",
    "        self.y = torch.tensor(y,dtype=torch.float32)\n",
    "        self.length = self.x.shape[0]\n",
    " \n",
    "      def __getitem__(self,idx):\n",
    "        return self.x[idx],self.y[idx]\n",
    "      def __len__(self):\n",
    "        return self.length\n",
    "\n",
    "trainset = dataset(np.array(X_train),np.array(y_train))\n",
    "\n",
    "#dataLoader\n",
    "trainloader = DataLoader(trainset,batch_size=64,shuffle=False)"
   ]
  },
  {
   "cell_type": "code",
   "execution_count": 27,
   "id": "5016520b",
   "metadata": {},
   "outputs": [],
   "source": [
    "#defining the network\n",
    "from torch import nn\n",
    "from torch.nn import functional as F\n",
    "class Net(nn.Module):\n",
    "    def __init__(self,input_shape):\n",
    "        super(Net,self).__init__()\n",
    "        self.fc1 = nn.Linear(input_shape,32)\n",
    "        self.fc2 = nn.Linear(32,64)\n",
    "        self.fc3 = nn.Linear(64,1)\n",
    "    def forward(self,x):\n",
    "        x = torch.relu(self.fc1(x))\n",
    "        x = torch.relu(self.fc2(x))\n",
    "        x = torch.sigmoid(self.fc3(x)) # we use sigmoid!\n",
    "        return x"
   ]
  },
  {
   "cell_type": "code",
   "execution_count": 28,
   "id": "fe59774c",
   "metadata": {},
   "outputs": [],
   "source": [
    "#hyper parameters\n",
    "learning_rate = 0.01\n",
    "epochs = 500\n",
    "# Model , Optimizer, Loss\n",
    "model = Net(input_shape=X_train.shape[1])\n",
    "optimizer = torch.optim.SGD(model.parameters(),lr=learning_rate)\n",
    "loss_fn = nn.BCELoss()"
   ]
  },
  {
   "cell_type": "code",
   "execution_count": 29,
   "id": "2dcd5ef6",
   "metadata": {},
   "outputs": [
    {
     "name": "stdout",
     "output_type": "stream",
     "text": [
      "epoch 0\tloss : 0.6497434377670288\t accuracy : 0.5666666666666667\n",
      "epoch 50\tloss : 0.5734838247299194\t accuracy : 0.5233333333333333\n",
      "epoch 100\tloss : 0.33596426248550415\t accuracy : 0.5033333333333333\n",
      "epoch 150\tloss : 0.14857205748558044\t accuracy : 0.52\n",
      "epoch 200\tloss : 0.07457304000854492\t accuracy : 0.64\n",
      "epoch 250\tloss : 0.04842297360301018\t accuracy : 0.7566666666666667\n",
      "epoch 300\tloss : 0.036096833646297455\t accuracy : 0.8233333333333334\n",
      "epoch 350\tloss : 0.027203576639294624\t accuracy : 0.8166666666666667\n",
      "epoch 400\tloss : 0.020289259031414986\t accuracy : 0.8066666666666666\n",
      "epoch 450\tloss : 0.006906598806381226\t accuracy : 0.7766666666666666\n"
     ]
    }
   ],
   "source": [
    "#forward loop\n",
    "losses = []\n",
    "accur = []\n",
    "for i in range(epochs):\n",
    "      for j,(x_train,y_train) in enumerate(trainloader):\n",
    "    \n",
    "        #calculate output\n",
    "        output = model(x_train)\n",
    "\n",
    "        #calculate loss\n",
    "        loss = loss_fn(output,y_train.reshape(-1,1))\n",
    "\n",
    "        #accuracy\n",
    "        predicted = model(torch.tensor(np.array(X_test),dtype=torch.float32))\n",
    "        acc = (predicted.reshape(-1).detach().numpy().round() == y).mean()\n",
    "        #backprop\n",
    "        optimizer.zero_grad()\n",
    "        loss.backward()\n",
    "        optimizer.step()\n",
    "\n",
    "      if i%50 == 0:\n",
    "        losses.append(loss)\n",
    "        accur.append(acc)\n",
    "        print(\"epoch {}\\tloss : {}\\t accuracy : {}\".format(i,loss,acc))"
   ]
  },
  {
   "cell_type": "code",
   "execution_count": 30,
   "id": "59567edf",
   "metadata": {},
   "outputs": [
    {
     "data": {
      "text/plain": [
       "Text(0, 0.5, 'loss')"
      ]
     },
     "execution_count": 30,
     "metadata": {},
     "output_type": "execute_result"
    },
    {
     "data": {
      "image/png": "[encoded data removed]",
      "text/plain": [
       "<Figure size 432x288 with 1 Axes>"
      ]
     },
     "metadata": {
      "needs_background": "light"
     },
     "output_type": "display_data"
    }
   ],
   "source": [
    "#plotting the loss\n",
    "losses = [loss.detach().numpy() for loss in losses]\n",
    "plt.plot(np.linspace(0, 500, num=10), losses)\n",
    "plt.title('Loss vs Epochs')\n",
    "plt.xlabel('Epochs')\n",
    "plt.ylabel('loss')"
   ]
  },
  {
   "cell_type": "code",
   "execution_count": 31,
   "id": "822f6cc5",
   "metadata": {},
   "outputs": [
    {
     "data": {
      "text/plain": [
       "Text(0, 0.5, 'loss')"
      ]
     },
     "execution_count": 31,
     "metadata": {},
     "output_type": "execute_result"
    },
    {
     "data": {
      "image/png": "[encoded data removed]",
      "text/plain": [
       "<Figure size 432x288 with 1 Axes>"
      ]
     },
     "metadata": {
      "needs_background": "light"
     },
     "output_type": "display_data"
    }
   ],
   "source": [
    "#printing the accuracy\n",
    "plt.plot(accur)\n",
    "plt.title('Accuracy vs Epochs')\n",
    "plt.xlabel('Accuracy')\n",
    "plt.ylabel('loss')"
   ]
  }
 ],
 "metadata": {
  "kernelspec": {
   "display_name": "Python 3",
   "language": "python",
   "name": "python3"
  },
  "language_info": {
   "codemirror_mode": {
    "name": "ipython",
    "version": 3
   },
   "file_extension": ".py",
   "mimetype": "text/x-python",
   "name": "python",
   "nbconvert_exporter": "python",
   "pygments_lexer": "ipython3",
   "version": "3.9.12"
  }
 },
 "nbformat": 4,
 "nbformat_minor": 5
}
