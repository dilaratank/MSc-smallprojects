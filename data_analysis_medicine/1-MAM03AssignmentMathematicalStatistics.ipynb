{
 "cells": [
  {
   "cell_type": "markdown",
   "id": "5de9cd2c",
   "metadata": {},
   "source": [
    "# Advanced data analysis in medicine | Mathematical Statistics\n",
    "\n",
    "The goal of this notebook is to calculate the cost-efficacy ratio of a dataset (randomized clinical trial on locally advanced lymphoma two treatments were compared with respect to (i) 3 year mortality and (ii) costs of the treatment and other health-care costs incurred by the patients) and its 95% confidence interval.\n",
    "\n",
    "All mathematical formula's used in this example are elaborated in the pdf 'var_proof.pdf'.\n",
    "\n",
    "Students: Dilara Tank, Christelle Klein, Nidujaa Rasanajakam"
   ]
  },
  {
   "cell_type": "code",
   "execution_count": 1,
   "id": "a5d3b3b9",
   "metadata": {},
   "outputs": [],
   "source": [
    "import pandas as pd\n",
    "import numpy as np"
   ]
  },
  {
   "cell_type": "markdown",
   "id": "5860bf51",
   "metadata": {},
   "source": [
    "We load the data and remove the unneccessary column patient number. "
   ]
  },
  {
   "cell_type": "code",
   "execution_count": 2,
   "id": "0b43e4d2",
   "metadata": {},
   "outputs": [
    {
     "data": {
      "text/html": [
       "<div>\n",
       "<style scoped>\n",
       "    .dataframe tbody tr th:only-of-type {\n",
       "        vertical-align: middle;\n",
       "    }\n",
       "\n",
       "    .dataframe tbody tr th {\n",
       "        vertical-align: top;\n",
       "    }\n",
       "\n",
       "    .dataframe thead th {\n",
       "        text-align: right;\n",
       "    }\n",
       "</style>\n",
       "<table border=\"1\" class=\"dataframe\">\n",
       "  <thead>\n",
       "    <tr style=\"text-align: right;\">\n",
       "      <th></th>\n",
       "      <th>trt</th>\n",
       "      <th>event</th>\n",
       "      <th>costs</th>\n",
       "    </tr>\n",
       "  </thead>\n",
       "  <tbody>\n",
       "    <tr>\n",
       "      <th>0</th>\n",
       "      <td>1</td>\n",
       "      <td>1</td>\n",
       "      <td>72.611776</td>\n",
       "    </tr>\n",
       "    <tr>\n",
       "      <th>1</th>\n",
       "      <td>1</td>\n",
       "      <td>1</td>\n",
       "      <td>35.499437</td>\n",
       "    </tr>\n",
       "    <tr>\n",
       "      <th>2</th>\n",
       "      <td>1</td>\n",
       "      <td>1</td>\n",
       "      <td>90.080600</td>\n",
       "    </tr>\n",
       "    <tr>\n",
       "      <th>3</th>\n",
       "      <td>1</td>\n",
       "      <td>0</td>\n",
       "      <td>5337.492587</td>\n",
       "    </tr>\n",
       "    <tr>\n",
       "      <th>4</th>\n",
       "      <td>1</td>\n",
       "      <td>1</td>\n",
       "      <td>2.360921</td>\n",
       "    </tr>\n",
       "    <tr>\n",
       "      <th>...</th>\n",
       "      <td>...</td>\n",
       "      <td>...</td>\n",
       "      <td>...</td>\n",
       "    </tr>\n",
       "    <tr>\n",
       "      <th>404</th>\n",
       "      <td>2</td>\n",
       "      <td>0</td>\n",
       "      <td>10.622984</td>\n",
       "    </tr>\n",
       "    <tr>\n",
       "      <th>405</th>\n",
       "      <td>2</td>\n",
       "      <td>1</td>\n",
       "      <td>5.854648</td>\n",
       "    </tr>\n",
       "    <tr>\n",
       "      <th>406</th>\n",
       "      <td>2</td>\n",
       "      <td>0</td>\n",
       "      <td>7.477292</td>\n",
       "    </tr>\n",
       "    <tr>\n",
       "      <th>407</th>\n",
       "      <td>2</td>\n",
       "      <td>1</td>\n",
       "      <td>3.110125</td>\n",
       "    </tr>\n",
       "    <tr>\n",
       "      <th>408</th>\n",
       "      <td>2</td>\n",
       "      <td>1</td>\n",
       "      <td>25.593722</td>\n",
       "    </tr>\n",
       "  </tbody>\n",
       "</table>\n",
       "<p>409 rows × 3 columns</p>\n",
       "</div>"
      ],
      "text/plain": [
       "     trt  event        costs\n",
       "0      1      1    72.611776\n",
       "1      1      1    35.499437\n",
       "2      1      1    90.080600\n",
       "3      1      0  5337.492587\n",
       "4      1      1     2.360921\n",
       "..   ...    ...          ...\n",
       "404    2      0    10.622984\n",
       "405    2      1     5.854648\n",
       "406    2      0     7.477292\n",
       "407    2      1     3.110125\n",
       "408    2      1    25.593722\n",
       "\n",
       "[409 rows x 3 columns]"
      ]
     },
     "execution_count": 2,
     "metadata": {},
     "output_type": "execute_result"
    }
   ],
   "source": [
    "df = pd.read_csv('costefficacydata.csv')\n",
    "df = df.drop('patnr', axis=1)\n",
    "df"
   ]
  },
  {
   "cell_type": "code",
   "execution_count": 3,
   "id": "88d7e630",
   "metadata": {},
   "outputs": [
    {
     "data": {
      "text/plain": [
       "trt      0\n",
       "event    0\n",
       "costs    0\n",
       "dtype: int64"
      ]
     },
     "execution_count": 3,
     "metadata": {},
     "output_type": "execute_result"
    }
   ],
   "source": [
    "df.isnull().sum()"
   ]
  },
  {
   "cell_type": "markdown",
   "id": "cc184713",
   "metadata": {},
   "source": [
    "We check if the number of patients corresponds to what has been given in the assignment (206 in group 1, 203 in group 2)."
   ]
  },
  {
   "cell_type": "code",
   "execution_count": 4,
   "id": "1cb93bf9",
   "metadata": {},
   "outputs": [
    {
     "name": "stdout",
     "output_type": "stream",
     "text": [
      "206\n",
      "203\n"
     ]
    }
   ],
   "source": [
    "treatment_1_df = df[df['trt'] == 1] # dataframe includes only data for patients with treatment 1\n",
    "treatment_2_df = df[df['trt'] == 2] # dataframe includes only data for patients with treatment 2\n",
    "\n",
    "n1 = len(treatment_1_df)\n",
    "n2 = len(treatment_2_df)\n",
    "\n",
    "print(n1)\n",
    "print(n2)"
   ]
  },
  {
   "cell_type": "code",
   "execution_count": 5,
   "id": "23be56e4",
   "metadata": {},
   "outputs": [],
   "source": [
    "def get_survival_rate(df):\n",
    "    total_survivals = len(df[df['event'] == 1])\n",
    "    return round(total_survivals / len(df), 4)\n",
    "\n",
    "def get_mean_costs(df):\n",
    "    cost_df = df['costs']\n",
    "    return round(np.mean(cost_df), 4)"
   ]
  },
  {
   "cell_type": "code",
   "execution_count": 17,
   "id": "e2341917",
   "metadata": {},
   "outputs": [
    {
     "name": "stdout",
     "output_type": "stream",
     "text": [
      "Mean costs treatment 1 group      (m1):  995.729  - 95% CI: (582, 1409)\n",
      "Mean costs treatment 2 group      (m2):  39.8231  - 95% CI: (24, 55)\n",
      "\n",
      "Survival rate treatment 1 group   (p1):  0.7476 - 95% CI: (0.69, 0.81)\n",
      "Survival rate treatment 2 group   (p2):  0.6355 - 95% CI: (0.57, 0.7)\n"
     ]
    }
   ],
   "source": [
    "# calculate the survival rates and mean costs\n",
    "p1 = get_survival_rate(treatment_1_df)\n",
    "p2 = get_survival_rate(treatment_2_df)\n",
    "m1 = get_mean_costs(treatment_1_df)\n",
    "m2 = get_mean_costs(treatment_2_df)\n",
    "\n",
    "# calculate the standard error and confidence interval of the efficacy \n",
    "se_p1 = np.sqrt((p1)*(1-p1)/len(treatment_1_df))\n",
    "se_p2 = np.sqrt((p2)*(1-p2)/len(treatment_2_df))\n",
    "ci_p1 = (round((p1 - 1.96 * se_p1), 2), round((p1 + 1.96 * se_p1), 2))\n",
    "ci_p2 = (round((p2 - 1.96 * se_p2), 2), round((p2 + 1.96 * se_p2), 2))\n",
    "\n",
    "# calculate the standard error and confidence interval of the cost\n",
    "se_m1 = treatment_1_df['costs'].sem()\n",
    "se_m2 = treatment_2_df['costs'].sem()\n",
    "ci_m1 = round((m1 - 1.96 * se_m1)), round((m1 + 1.96 * se_m1))\n",
    "ci_m2 = round((m2 - 1.96 * se_m2)), round((m2 + 1.96 * se_m2))\n",
    "\n",
    "print('Mean costs treatment 1 group      (m1): ', m1, ' - 95% CI:', ci_m1)\n",
    "print('Mean costs treatment 2 group      (m2): ', m2, ' - 95% CI:', ci_m2)\n",
    "print()\n",
    "print('Survival rate treatment 1 group   (p1): ', p1, '- 95% CI:', ci_p1)\n",
    "print('Survival rate treatment 2 group   (p2): ', p2, '- 95% CI:', ci_p2)"
   ]
  },
  {
   "cell_type": "markdown",
   "id": "f2fa0caf",
   "metadata": {},
   "source": [
    "We compute the standard errors of the Efficacy E and the Cost C"
   ]
  },
  {
   "cell_type": "code",
   "execution_count": 7,
   "id": "031a3d9e",
   "metadata": {},
   "outputs": [
    {
     "name": "stdout",
     "output_type": "stream",
     "text": [
      "se(E): 0.045 95% CI: (0.024, 0.2)\n"
     ]
    }
   ],
   "source": [
    "E = p1 - p2\n",
    "se_E = round(np.sqrt(se_p1**2 + se_p2**2), 3)\n",
    "ci_E = (round((E - 1.96 * se_E), 3), round((E + 1.96 * se_E), 3))\n",
    "print('se(E):', se_E, '95% CI:', ci_E)"
   ]
  },
  {
   "cell_type": "code",
   "execution_count": 8,
   "id": "2da914d2",
   "metadata": {},
   "outputs": [
    {
     "name": "stdout",
     "output_type": "stream",
     "text": [
      "se(C): 211 95% CI: (542, 1369)\n"
     ]
    }
   ],
   "source": [
    "C = m1 - m2\n",
    "se_C = round(np.sqrt(se_m1**2 + se_m2**2))\n",
    "ci_C = (round((C - 1.96 * se_C)), round((C + 1.96 * se_C)))\n",
    "print('se(C):', se_C, '95% CI:', ci_C)"
   ]
  },
  {
   "cell_type": "markdown",
   "id": "3b62835e",
   "metadata": {},
   "source": [
    "C/E ratio = (p2-p1) / (m2-m1) = C / E"
   ]
  },
  {
   "cell_type": "code",
   "execution_count": 9,
   "id": "c161facd",
   "metadata": {},
   "outputs": [
    {
     "data": {
      "text/plain": [
       "8527.26048171275"
      ]
     },
     "execution_count": 9,
     "metadata": {},
     "output_type": "execute_result"
    }
   ],
   "source": [
    "CE_ratio = C/E\n",
    "CE_ratio"
   ]
  },
  {
   "cell_type": "markdown",
   "id": "62bfbda6",
   "metadata": {},
   "source": [
    "logCE = log(C/E) = log(C)-log(E)"
   ]
  },
  {
   "cell_type": "code",
   "execution_count": 10,
   "id": "f84530ec",
   "metadata": {},
   "outputs": [
    {
     "data": {
      "text/plain": [
       "9.051023426148436"
      ]
     },
     "execution_count": 10,
     "metadata": {},
     "output_type": "execute_result"
    }
   ],
   "source": [
    "logCE = (np.log(C)-np.log(E))\n",
    "logCE"
   ]
  },
  {
   "cell_type": "markdown",
   "id": "d9544189",
   "metadata": {},
   "source": [
    "Code snippet from [stackabuse](https://stackabuse.com/covariance-and-correlation-in-python/)."
   ]
  },
  {
   "cell_type": "code",
   "execution_count": 11,
   "id": "ea7d9243",
   "metadata": {},
   "outputs": [],
   "source": [
    "def covariance(x, y):\n",
    "    # Finding the mean of the series x and y\n",
    "    mean_x = sum(x)/float(len(x))\n",
    "    mean_y = sum(y)/float(len(y))\n",
    "    # Subtracting mean from the individual elements\n",
    "    sub_x = [i - mean_x for i in x]\n",
    "    sub_y = [i - mean_y for i in y]\n",
    "    numerator = sum([sub_x[i]*sub_y[i] for i in range(len(sub_x))])\n",
    "    denominator = len(x)-1\n",
    "    cov = numerator/denominator\n",
    "    return cov"
   ]
  },
  {
   "cell_type": "code",
   "execution_count": 12,
   "id": "0bcb713f",
   "metadata": {},
   "outputs": [],
   "source": [
    "n1 = len(treatment_1_df)\n",
    "n2 = len(treatment_2_df)\n",
    "cov_CE = covariance(treatment_1_df['event'], treatment_1_df['costs'])/n1 + covariance(treatment_2_df['event'], treatment_2_df['costs'])/n2"
   ]
  },
  {
   "cell_type": "markdown",
   "id": "b9c589b2",
   "metadata": {},
   "source": [
    "We determine the variance of log(CE)."
   ]
  },
  {
   "cell_type": "code",
   "execution_count": 13,
   "id": "0b2f964b",
   "metadata": {},
   "outputs": [
    {
     "data": {
      "text/plain": [
       "0.20428331295860822"
      ]
     },
     "execution_count": 13,
     "metadata": {},
     "output_type": "execute_result"
    }
   ],
   "source": [
    "C_part = (se_C**2)/C**2\n",
    "E_part = (se_E**2)/E**2\n",
    "cov_part = -2 * cov_CE / (C*E)\n",
    "\n",
    "var_log_CE = C_part + E_part + cov_part\n",
    "var_log_CE"
   ]
  },
  {
   "cell_type": "markdown",
   "id": "53ed17a1",
   "metadata": {},
   "source": [
    "se(logCE) = $\\sqrt{var[logCE]}$"
   ]
  },
  {
   "cell_type": "code",
   "execution_count": 14,
   "id": "fb61f6b1",
   "metadata": {},
   "outputs": [
    {
     "data": {
      "text/plain": [
       "0.45197711552534187"
      ]
     },
     "execution_count": 14,
     "metadata": {},
     "output_type": "execute_result"
    }
   ],
   "source": [
    "se_logCE = np.sqrt(var_log_CE)\n",
    "se_logCE"
   ]
  },
  {
   "cell_type": "markdown",
   "id": "da0317bc",
   "metadata": {},
   "source": [
    "Now we calculate the CI of the logCE"
   ]
  },
  {
   "cell_type": "code",
   "execution_count": 15,
   "id": "fa1eef77",
   "metadata": {},
   "outputs": [
    {
     "name": "stdout",
     "output_type": "stream",
     "text": [
      "95% CI logCE:  (8.165, 9.937)\n"
     ]
    }
   ],
   "source": [
    "lower_bound_log = logCE - 1.96 * se_logCE\n",
    "upper_bound_log = logCE + 1.96 * se_logCE\n",
    "print('95% CI logCE: ', (round(lower_bound_log, 3), round(upper_bound_log, 3)))"
   ]
  },
  {
   "cell_type": "markdown",
   "id": "f2d8b77c",
   "metadata": {},
   "source": [
    "Now we calculate the CI of the CE"
   ]
  },
  {
   "cell_type": "code",
   "execution_count": 16,
   "id": "a0781a7f",
   "metadata": {},
   "outputs": [
    {
     "name": "stdout",
     "output_type": "stream",
     "text": [
      "95% CI CE:  (3516, 20680)\n"
     ]
    }
   ],
   "source": [
    "lower_bound = np.exp(lower_bound_log)\n",
    "upper_bound = np.exp(upper_bound_log)\n",
    "print('95% CI CE: ', (round(lower_bound), round(upper_bound)))"
   ]
  }
 ],
 "metadata": {
  "kernelspec": {
   "display_name": "Python 3",
   "language": "python",
   "name": "python3"
  },
  "language_info": {
   "codemirror_mode": {
    "name": "ipython",
    "version": 3
   },
   "file_extension": ".py",
   "mimetype": "text/x-python",
   "name": "python",
   "nbconvert_exporter": "python",
   "pygments_lexer": "ipython3",
   "version": "3.9.12"
  }
 },
 "nbformat": 4,
 "nbformat_minor": 5
}
